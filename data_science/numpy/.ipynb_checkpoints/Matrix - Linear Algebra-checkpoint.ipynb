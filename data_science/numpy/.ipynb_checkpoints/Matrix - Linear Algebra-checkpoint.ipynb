{
 "cells": [
  {
   "cell_type": "markdown",
   "metadata": {},
   "source": [
    "<a href=\"https://www.linkedin.com/in/amit-maindola-51801423/\"><img src = \"https://cdn-images-1.medium.com/max/1200/1*u16a0WbJeckSdi6kGD3gVA.jpeg\" width = 400> </a>\n",
    "<h1 align=\"center\"><font size=5 color=\"DE5538\">Numpy - Linear Algebra</font></h1>"
   ]
  },
  {
   "cell_type": "markdown",
   "metadata": {},
   "source": [
    "## Introduction\n",
    "As we have already got familiar how to use Matrix using NumPy Libraray.  \n",
    "Let's try our hand to some Linear Algebra"
   ]
  },
  {
   "cell_type": "code",
   "execution_count": 1,
   "metadata": {},
   "outputs": [],
   "source": [
    "import numpy as np"
   ]
  },
  {
   "cell_type": "markdown",
   "metadata": {},
   "source": [
    "### Determinant of a Matrix"
   ]
  },
  {
   "cell_type": "code",
   "execution_count": 7,
   "metadata": {},
   "outputs": [
    {
     "name": "stdout",
     "output_type": "stream",
     "text": [
      "Determinant of matrix \n",
      "[[1 3 4]\n",
      " [2 6 8]\n",
      " [1 9 5]] \n",
      "==> 0.0\n"
     ]
    }
   ],
   "source": [
    "A = np.matrix('1 3 4; 2 6 8; 1 9 5')\n",
    "B = np.matrix('2 -3 4; 5  6 7; 8 9 1')\n",
    "print(\"Determinant of matrix \\n{} \\n==> {}\".format(A, np.linalg.det(A)))\n",
    "print(\"Determinant of matrix \\n{} \\n==> {}\".format(B, np.linalg.det(B)))"
   ]
  }
 ],
 "metadata": {
  "kernelspec": {
   "display_name": "Python 3",
   "language": "python",
   "name": "python3"
  },
  "language_info": {
   "codemirror_mode": {
    "name": "ipython",
    "version": 3
   },
   "file_extension": ".py",
   "mimetype": "text/x-python",
   "name": "python",
   "nbconvert_exporter": "python",
   "pygments_lexer": "ipython3",
   "version": "3.7.1"
  }
 },
 "nbformat": 4,
 "nbformat_minor": 2
}
